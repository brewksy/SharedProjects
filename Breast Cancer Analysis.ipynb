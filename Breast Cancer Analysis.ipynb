{
 "cells": [
  {
   "cell_type": "code",
   "execution_count": 1,
   "metadata": {},
   "outputs": [],
   "source": [
    "#Lab 2 - In this lab, we will practice important concepts covered in the past few lessons.\n",
    "#You will need to complete two parts:\n",
    "#Part I: Build and compare regression models \n",
    "#Part II: Build a classificaiton model\n",
    "\n",
    "#Please ask for help if you are stuck at any point during the execution of the instructions below!\n",
    "\n",
    "#When you are done, let the instructor know so that you can get quick feedback before your final submission\n",
    "#Please do not forget to upload the final version of this notebook to the Dropbox folder for Lab 2\n",
    "\n",
    "#Most importantly, HAVE FUN!"
   ]
  },
  {
   "cell_type": "code",
   "execution_count": 2,
   "metadata": {},
   "outputs": [],
   "source": [
    "#Part I  : Polynomial Regression\n",
    "\n",
    "#always import numpy because you will likely need it.\n",
    "import numpy as np\n",
    "\n",
    "#import pandas library to use data series and data frames\n",
    "import pandas as pd\n",
    "\n",
    "#import matplotlib.pyplot so that you can plot some data\n",
    "import matplotlib.pyplot as plt"
   ]
  },
  {
   "cell_type": "code",
   "execution_count": 3,
   "metadata": {},
   "outputs": [
    {
     "name": "stdout",
     "output_type": "stream",
     "text": [
      "(12, 2)\n",
      "<bound method DataFrame.info of     Time in Seconds  Number of Bacteria\n",
      "0                 0                   0\n",
      "1                60                 120\n",
      "2               120                 250\n",
      "3               180                 380\n",
      "4               240                 500\n",
      "5               300                 700\n",
      "6               360                1000\n",
      "7               420                1400\n",
      "8               480                2200\n",
      "9               540                3400\n",
      "10              600                4800\n",
      "11              660                6000>\n",
      "Time in Seconds       int32\n",
      "Number of Bacteria    int32\n",
      "dtype: object\n",
      "<class 'pandas.core.frame.DataFrame'>\n"
     ]
    }
   ],
   "source": [
    "#This fictional dataset represents the growth rates of a type of bacteria as a function of time\n",
    "#Use this data as is \n",
    "bacteriaGrowth = np.array([\n",
    "    [0,0],\n",
    "    [60,120],\n",
    "    [120,250],\n",
    "    [180,380],\n",
    "    [240,500],\n",
    "    [300,700],\n",
    "    [360,1000],\n",
    "    [420,1400],\n",
    "    [480,2200],\n",
    "    [540,3400],\n",
    "    [600,4800],\n",
    "    [660,6000]\n",
    "    ])\n",
    "\n",
    "#now create a pandas dataframe to put the data\n",
    "dataset = pd.DataFrame(bacteriaGrowth,columns=['Time in Seconds','Number of Bacteria'])\n",
    "features = pd.DataFrame(dataset,columns=[\"Time in Seconds\"])\n",
    "target = pd.DataFrame(dataset,columns=[\"Number of Bacteria\"])\n",
    "\n",
    "#inspect the dataframe\n",
    "print(dataset.shape)\n",
    "print(dataset.info)\n",
    "print(dataset.dtypes)\n",
    "print(type(dataset))"
   ]
  },
  {
   "cell_type": "code",
   "execution_count": 4,
   "metadata": {},
   "outputs": [],
   "source": [
    "#Assign your x as the first column\n",
    "x = features\n",
    "#Assign your y as the second column\n",
    "y = target"
   ]
  },
  {
   "cell_type": "code",
   "execution_count": 5,
   "metadata": {},
   "outputs": [
    {
     "name": "stdout",
     "output_type": "stream",
     "text": [
      "    Time in Seconds\n",
      "0                 0\n",
      "1                60\n",
      "2               120\n",
      "3               180\n",
      "4               240\n",
      "5               300\n",
      "6               360\n",
      "7               420\n",
      "8               480\n",
      "9               540\n",
      "10              600\n",
      "11              660\n",
      "    Number of Bacteria\n",
      "0                    0\n",
      "1                  120\n",
      "2                  250\n",
      "3                  380\n",
      "4                  500\n",
      "5                  700\n",
      "6                 1000\n",
      "7                 1400\n",
      "8                 2200\n",
      "9                 3400\n",
      "10                4800\n",
      "11                6000\n"
     ]
    }
   ],
   "source": [
    "print(x)\n",
    "print(y)"
   ]
  },
  {
   "cell_type": "code",
   "execution_count": 6,
   "metadata": {},
   "outputs": [
    {
     "name": "stdout",
     "output_type": "stream",
     "text": [
      "(12, 1)\n",
      "Time in Seconds    int32\n",
      "dtype: object\n",
      "<class 'pandas.core.frame.DataFrame'>\n"
     ]
    }
   ],
   "source": [
    "#inspect x\n",
    "print(x.shape)\n",
    "print(x.dtypes)\n",
    "print(type(x))"
   ]
  },
  {
   "cell_type": "code",
   "execution_count": 7,
   "metadata": {
    "scrolled": true
   },
   "outputs": [
    {
     "name": "stdout",
     "output_type": "stream",
     "text": [
      "(12, 1)\n",
      "Number of Bacteria    int32\n",
      "dtype: object\n",
      "<class 'pandas.core.frame.DataFrame'>\n"
     ]
    }
   ],
   "source": [
    "#inspect y\n",
    "print(y.shape)\n",
    "print(y.dtypes)\n",
    "print(type(y))"
   ]
  },
  {
   "cell_type": "code",
   "execution_count": 8,
   "metadata": {
    "scrolled": true
   },
   "outputs": [],
   "source": [
    "#Use linear regression to build a predictive model\n",
    "#import the linear model package from sklearn\n",
    "import sklearn.linear_model as lm\n",
    "#build the model with x, y\n",
    "linearmodel=lm.LinearRegression()\n",
    "regressionModel = linearmodel.fit(x,y)"
   ]
  },
  {
   "cell_type": "code",
   "execution_count": 9,
   "metadata": {},
   "outputs": [
    {
     "name": "stdout",
     "output_type": "stream",
     "text": [
      "[[8.29079254]]\n",
      "[-1006.79487179]\n",
      "0.8138234411093247\n"
     ]
    }
   ],
   "source": [
    "#use the score method to see how good the fit is\n",
    "print(regressionModel.coef_)\n",
    "print(regressionModel.intercept_)\n",
    "print(regressionModel.score(x,y))"
   ]
  },
  {
   "cell_type": "code",
   "execution_count": 10,
   "metadata": {},
   "outputs": [
    {
     "data": {
      "text/plain": [
       "array([[-1006.79487179],\n",
       "       [ -509.34731935],\n",
       "       [  -11.8997669 ],\n",
       "       [  485.54778555],\n",
       "       [  982.995338  ],\n",
       "       [ 1480.44289044],\n",
       "       [ 1977.89044289],\n",
       "       [ 2475.33799534],\n",
       "       [ 2972.78554779],\n",
       "       [ 3470.23310023],\n",
       "       [ 3967.68065268],\n",
       "       [ 4465.12820513]])"
      ]
     },
     "execution_count": 10,
     "metadata": {},
     "output_type": "execute_result"
    }
   ],
   "source": [
    "#predict - don't split into training and test - just predict with x\n",
    "predictedY = regressionModel.predict(x)\n",
    "predictedY"
   ]
  },
  {
   "cell_type": "code",
   "execution_count": 11,
   "metadata": {
    "scrolled": true
   },
   "outputs": [
    {
     "data": {
      "image/png": "[encoded data removed]",
      "text/plain": [
       "<Figure size 432x288 with 1 Axes>"
      ]
     },
     "metadata": {
      "needs_background": "light"
     },
     "output_type": "display_data"
    }
   ],
   "source": [
    "#using the plot function, visualize the dataset and Linear Regression results \n",
    "plt.plot(x,predictedY)\n",
    "plt.scatter(x,y)\n",
    "plt.xlabel(\"X\")\n",
    "plt.ylabel(\"Y\")\n",
    "plt.show()"
   ]
  },
  {
   "cell_type": "code",
   "execution_count": 12,
   "metadata": {},
   "outputs": [],
   "source": [
    "### CHECKPOINT 1 ###\n",
    "#Before you proceed, make sure you have a score and a visual plot showing the results.\n",
    "#If not, this means the data was not used properly.\n",
    "#If you are stuck - ask for help before you proceed! "
   ]
  },
  {
   "cell_type": "code",
   "execution_count": 13,
   "metadata": {},
   "outputs": [
    {
     "data": {
      "text/plain": [
       "LinearRegression(copy_X=True, fit_intercept=True, n_jobs=None, normalize=False)"
      ]
     },
     "execution_count": 13,
     "metadata": {},
     "output_type": "execute_result"
    }
   ],
   "source": [
    "#Now, let's try to build a predctive model using ploynomial regression\n",
    "import sklearn.preprocessing as prep\n",
    "\n",
    "\n",
    "#we need to extract the polynomial features of the data using a second degree polynomial and fit the data\n",
    "poly = prep.PolynomialFeatures(degree=2)\n",
    "xPoly = poly.fit_transform(x)\n",
    "poly.fit(xPoly,y)\n",
    "\n",
    "lin2 = lm.LinearRegression()\n",
    "lin2.fit(xPoly,y)"
   ]
  },
  {
   "cell_type": "code",
   "execution_count": 14,
   "metadata": {},
   "outputs": [
    {
     "data": {
      "text/plain": [
       "0.9840668815096588"
      ]
     },
     "execution_count": 14,
     "metadata": {},
     "output_type": "execute_result"
    }
   ],
   "source": [
    "#use the score method to see how good the fit is\n",
    "lin2.score(xPoly,y)"
   ]
  },
  {
   "cell_type": "code",
   "execution_count": 15,
   "metadata": {
    "scrolled": true
   },
   "outputs": [
    {
     "data": {
      "text/plain": [
       "[<matplotlib.lines.Line2D at 0x178fa065a08>]"
      ]
     },
     "execution_count": 15,
     "metadata": {},
     "output_type": "execute_result"
    },
    {
     "data": {
      "image/png": "[encoded data removed]",
      "text/plain": [
       "<Figure size 432x288 with 1 Axes>"
      ]
     },
     "metadata": {
      "needs_background": "light"
     },
     "output_type": "display_data"
    }
   ],
   "source": [
    "#using the plot function, visualize the dataset and polynomial Regression results and\n",
    "plt.plot(x,y,color='blue')\n",
    "plt.plot(x,lin2.predict(xPoly),color='red')"
   ]
  },
  {
   "cell_type": "code",
   "execution_count": 16,
   "metadata": {},
   "outputs": [
    {
     "data": {
      "text/plain": [
       "LinearRegression(copy_X=True, fit_intercept=True, n_jobs=None, normalize=False)"
      ]
     },
     "execution_count": 16,
     "metadata": {},
     "output_type": "execute_result"
    }
   ],
   "source": [
    "#Use the same polynomial regression but now with a third degree\n",
    "poly3 = prep.PolynomialFeatures(degree=3)\n",
    "xPoly = poly3.fit_transform(x)\n",
    "poly3.fit(xPoly,y)\n",
    "\n",
    "lin3 = lm.LinearRegression()\n",
    "lin3.fit(xPoly,y)"
   ]
  },
  {
   "cell_type": "code",
   "execution_count": 17,
   "metadata": {},
   "outputs": [
    {
     "data": {
      "text/plain": [
       "0.9966681314401232"
      ]
     },
     "execution_count": 17,
     "metadata": {},
     "output_type": "execute_result"
    }
   ],
   "source": [
    "#use the score method to see how good the fit is with a third degree polynomial\n",
    "lin3.score(xPoly,y)"
   ]
  },
  {
   "cell_type": "code",
   "execution_count": 18,
   "metadata": {},
   "outputs": [
    {
     "data": {
      "text/plain": [
       "[<matplotlib.lines.Line2D at 0x178fa0dbcc8>]"
      ]
     },
     "execution_count": 18,
     "metadata": {},
     "output_type": "execute_result"
    },
    {
     "data": {
      "image/png": "[encoded data removed]",
      "text/plain": [
       "<Figure size 432x288 with 1 Axes>"
      ]
     },
     "metadata": {
      "needs_background": "light"
     },
     "output_type": "display_data"
    }
   ],
   "source": [
    "#using the plot function, visualize the dataset and polynomial Regression results\n",
    "plt.plot(x,y,color='blue')\n",
    "plt.plot(x,lin3.predict(xPoly),color='red')"
   ]
  },
  {
   "cell_type": "code",
   "execution_count": 19,
   "metadata": {},
   "outputs": [],
   "source": [
    "#What observations can you make about the different models you used to build \n",
    "#a regression model for this dataset (linear, polynomial of the second degree, polynomial of the third degree)\n",
    "\n",
    "#The simple linear regression was accurate, but it was obvious that it would not be very effective based on the \n",
    "#visualization.  Beyond any of the extremese the linear model would break down\n",
    "\n",
    "#The 2nd degree polynomial worked, but it also had some issues because it's noticeable again that at the extremes\n",
    "#of the time variable it is obvious the model would show some erroneus predictions\n",
    "\n",
    "#The 3rd degree is very close to a perfect fit, and seems to hit the closest of all three."
   ]
  },
  {
   "cell_type": "code",
   "execution_count": 20,
   "metadata": {},
   "outputs": [],
   "source": [
    "### CHECKPOINT 3 ###\n",
    "#Before you proceed, make sure you have built three regression models, scored them and plotted all of them.\n",
    "#If not, this means Part I of this lab has not been completed. \n",
    "#If you are stuck - ask for help before you proceed! "
   ]
  },
  {
   "cell_type": "code",
   "execution_count": 21,
   "metadata": {},
   "outputs": [],
   "source": [
    "#Part II : Classification\n",
    "\n",
    "#For this part of the lab, we are going to use the sklearn Breast Cancer dataset\n",
    "#Read about it more here: https://scikit-learn.org/stable/modules/generated/sklearn.datasets.load_breast_cancer.html\n",
    "\n",
    "#import the dataset package from sklearn\n",
    "import sklearn.datasets as datasets\n",
    "\n",
    "#load the Breast Cancer data using the load_ function (not a csv import)\n",
    "cancerData = datasets.load_breast_cancer()"
   ]
  },
  {
   "cell_type": "code",
   "execution_count": 22,
   "metadata": {
    "scrolled": false
   },
   "outputs": [
    {
     "name": "stdout",
     "output_type": "stream",
     "text": [
      ".. _breast_cancer_dataset:\n",
      "\n",
      "Breast cancer wisconsin (diagnostic) dataset\n",
      "--------------------------------------------\n",
      "\n",
      "**Data Set Characteristics:**\n",
      "\n",
      "    :Number of Instances: 569\n",
      "\n",
      "    :Number of Attributes: 30 numeric, predictive attributes and the class\n",
      "\n",
      "    :Attribute Information:\n",
      "        - radius (mean of distances from center to points on the perimeter)\n",
      "        - texture (standard deviation of gray-scale values)\n",
      "        - perimeter\n",
      "        - area\n",
      "        - smoothness (local variation in radius lengths)\n",
      "        - compactness (perimeter^2 / area - 1.0)\n",
      "        - concavity (severity of concave portions of the contour)\n",
      "        - concave points (number of concave portions of the contour)\n",
      "        - symmetry \n",
      "        - fractal dimension (\"coastline approximation\" - 1)\n",
      "\n",
      "        The mean, standard error, and \"worst\" or largest (mean of the three\n",
      "        largest values) of these features were computed for each image,\n",
      "        resulting in 30 features.  For instance, field 3 is Mean Radius, field\n",
      "        13 is Radius SE, field 23 is Worst Radius.\n",
      "\n",
      "        - class:\n",
      "                - WDBC-Malignant\n",
      "                - WDBC-Benign\n",
      "\n",
      "    :Summary Statistics:\n",
      "\n",
      "    ===================================== ====== ======\n",
      "                                           Min    Max\n",
      "    ===================================== ====== ======\n",
      "    radius (mean):                        6.981  28.11\n",
      "    texture (mean):                       9.71   39.28\n",
      "    perimeter (mean):                     43.79  188.5\n",
      "    area (mean):                          143.5  2501.0\n",
      "    smoothness (mean):                    0.053  0.163\n",
      "    compactness (mean):                   0.019  0.345\n",
      "    concavity (mean):                     0.0    0.427\n",
      "    concave points (mean):                0.0    0.201\n",
      "    symmetry (mean):                      0.106  0.304\n",
      "    fractal dimension (mean):             0.05   0.097\n",
      "    radius (standard error):              0.112  2.873\n",
      "    texture (standard error):             0.36   4.885\n",
      "    perimeter (standard error):           0.757  21.98\n",
      "    area (standard error):                6.802  542.2\n",
      "    smoothness (standard error):          0.002  0.031\n",
      "    compactness (standard error):         0.002  0.135\n",
      "    concavity (standard error):           0.0    0.396\n",
      "    concave points (standard error):      0.0    0.053\n",
      "    symmetry (standard error):            0.008  0.079\n",
      "    fractal dimension (standard error):   0.001  0.03\n",
      "    radius (worst):                       7.93   36.04\n",
      "    texture (worst):                      12.02  49.54\n",
      "    perimeter (worst):                    50.41  251.2\n",
      "    area (worst):                         185.2  4254.0\n",
      "    smoothness (worst):                   0.071  0.223\n",
      "    compactness (worst):                  0.027  1.058\n",
      "    concavity (worst):                    0.0    1.252\n",
      "    concave points (worst):               0.0    0.291\n",
      "    symmetry (worst):                     0.156  0.664\n",
      "    fractal dimension (worst):            0.055  0.208\n",
      "    ===================================== ====== ======\n",
      "\n",
      "    :Missing Attribute Values: None\n",
      "\n",
      "    :Class Distribution: 212 - Malignant, 357 - Benign\n",
      "\n",
      "    :Creator:  Dr. William H. Wolberg, W. Nick Street, Olvi L. Mangasarian\n",
      "\n",
      "    :Donor: Nick Street\n",
      "\n",
      "    :Date: November, 1995\n",
      "\n",
      "This is a copy of UCI ML Breast Cancer Wisconsin (Diagnostic) datasets.\n",
      "https://goo.gl/U2Uwz2\n",
      "\n",
      "Features are computed from a digitized image of a fine needle\n",
      "aspirate (FNA) of a breast mass.  They describe\n",
      "characteristics of the cell nuclei present in the image.\n",
      "\n",
      "Separating plane described above was obtained using\n",
      "Multisurface Method-Tree (MSM-T) [K. P. Bennett, \"Decision Tree\n",
      "Construction Via Linear Programming.\" Proceedings of the 4th\n",
      "Midwest Artificial Intelligence and Cognitive Science Society,\n",
      "pp. 97-101, 1992], a classification method which uses linear\n",
      "programming to construct a decision tree.  Relevant features\n",
      "were selected using an exhaustive search in the space of 1-4\n",
      "features and 1-3 separating planes.\n",
      "\n",
      "The actual linear program used to obtain the separating plane\n",
      "in the 3-dimensional space is that described in:\n",
      "[K. P. Bennett and O. L. Mangasarian: \"Robust Linear\n",
      "Programming Discrimination of Two Linearly Inseparable Sets\",\n",
      "Optimization Methods and Software 1, 1992, 23-34].\n",
      "\n",
      "This database is also available through the UW CS ftp server:\n",
      "\n",
      "ftp ftp.cs.wisc.edu\n",
      "cd math-prog/cpo-dataset/machine-learn/WDBC/\n",
      "\n",
      ".. topic:: References\n",
      "\n",
      "   - W.N. Street, W.H. Wolberg and O.L. Mangasarian. Nuclear feature extraction \n",
      "     for breast tumor diagnosis. IS&T/SPIE 1993 International Symposium on \n",
      "     Electronic Imaging: Science and Technology, volume 1905, pages 861-870,\n",
      "     San Jose, CA, 1993.\n",
      "   - O.L. Mangasarian, W.N. Street and W.H. Wolberg. Breast cancer diagnosis and \n",
      "     prognosis via linear programming. Operations Research, 43(4), pages 570-577, \n",
      "     July-August 1995.\n",
      "   - W.H. Wolberg, W.N. Street, and O.L. Mangasarian. Machine learning techniques\n",
      "     to diagnose breast cancer from fine-needle aspirates. Cancer Letters 77 (1994) \n",
      "     163-171.\n"
     ]
    }
   ],
   "source": [
    "#Print the DESCR attribute to explore the dataset at a high level\n",
    "print(cancerData.DESCR)"
   ]
  },
  {
   "cell_type": "code",
   "execution_count": 23,
   "metadata": {
    "scrolled": true
   },
   "outputs": [
    {
     "name": "stdout",
     "output_type": "stream",
     "text": [
      "['mean radius' 'mean texture' 'mean perimeter' 'mean area'\n",
      " 'mean smoothness' 'mean compactness' 'mean concavity'\n",
      " 'mean concave points' 'mean symmetry' 'mean fractal dimension'\n",
      " 'radius error' 'texture error' 'perimeter error' 'area error'\n",
      " 'smoothness error' 'compactness error' 'concavity error'\n",
      " 'concave points error' 'symmetry error' 'fractal dimension error'\n",
      " 'worst radius' 'worst texture' 'worst perimeter' 'worst area'\n",
      " 'worst smoothness' 'worst compactness' 'worst concavity'\n",
      " 'worst concave points' 'worst symmetry' 'worst fractal dimension']\n"
     ]
    }
   ],
   "source": [
    "#inspect the features\n",
    "print(cancerData.feature_names)"
   ]
  },
  {
   "cell_type": "code",
   "execution_count": 24,
   "metadata": {},
   "outputs": [
    {
     "name": "stdout",
     "output_type": "stream",
     "text": [
      "['malignant' 'benign']\n",
      "[0 0 0 0 0 0 0 0 0 0 0 0 0 0 0 0 0 0 0 1 1 1 0 0 0 0 0 0 0 0 0 0 0 0 0 0 0\n",
      " 1 0 0 0 0 0 0 0 0 1 0 1 1 1 1 1 0 0 1 0 0 1 1 1 1 0 1 0 0 1 1 1 1 0 1 0 0\n",
      " 1 0 1 0 0 1 1 1 0 0 1 0 0 0 1 1 1 0 1 1 0 0 1 1 1 0 0 1 1 1 1 0 1 1 0 1 1\n",
      " 1 1 1 1 1 1 0 0 0 1 0 0 1 1 1 0 0 1 0 1 0 0 1 0 0 1 1 0 1 1 0 1 1 1 1 0 1\n",
      " 1 1 1 1 1 1 1 1 0 1 1 1 1 0 0 1 0 1 1 0 0 1 1 0 0 1 1 1 1 0 1 1 0 0 0 1 0\n",
      " 1 0 1 1 1 0 1 1 0 0 1 0 0 0 0 1 0 0 0 1 0 1 0 1 1 0 1 0 0 0 0 1 1 0 0 1 1\n",
      " 1 0 1 1 1 1 1 0 0 1 1 0 1 1 0 0 1 0 1 1 1 1 0 1 1 1 1 1 0 1 0 0 0 0 0 0 0\n",
      " 0 0 0 0 0 0 0 1 1 1 1 1 1 0 1 0 1 1 0 1 1 0 1 0 0 1 1 1 1 1 1 1 1 1 1 1 1\n",
      " 1 0 1 1 0 1 0 1 1 1 1 1 1 1 1 1 1 1 1 1 1 0 1 1 1 0 1 0 1 1 1 1 0 0 0 1 1\n",
      " 1 1 0 1 0 1 0 1 1 1 0 1 1 1 1 1 1 1 0 0 0 1 1 1 1 1 1 1 1 1 1 1 0 0 1 0 0\n",
      " 0 1 0 0 1 1 1 1 1 0 1 1 1 1 1 0 1 1 1 0 1 1 0 0 1 1 1 1 1 1 0 1 1 1 1 1 1\n",
      " 1 0 1 1 1 1 1 0 1 1 0 1 1 1 1 1 1 1 1 1 1 1 1 0 1 0 0 1 0 1 1 1 1 1 0 1 1\n",
      " 0 1 0 1 1 0 1 0 1 1 1 1 1 1 1 1 0 0 1 1 1 1 1 1 0 1 1 1 1 1 1 1 1 1 1 0 1\n",
      " 1 1 1 1 1 1 0 1 0 1 1 0 1 1 1 1 1 0 0 1 0 1 0 1 1 1 1 1 0 1 1 0 1 0 1 0 0\n",
      " 1 1 1 0 1 1 1 1 1 1 1 1 1 1 1 0 1 0 0 1 1 1 1 1 1 1 1 1 1 1 1 1 1 1 1 1 1\n",
      " 1 1 1 1 1 1 1 0 0 0 0 0 0 1]\n"
     ]
    }
   ],
   "source": [
    "#inspect the target classes\n",
    "print(cancerData.target_names)\n",
    "print(cancerData.target)"
   ]
  },
  {
   "cell_type": "code",
   "execution_count": 25,
   "metadata": {},
   "outputs": [],
   "source": [
    "#define the features and the target\n",
    "features = pd.DataFrame(cancerData.data, columns=cancerData.feature_names)\n",
    "target = pd.DataFrame(cancerData.target)"
   ]
  },
  {
   "cell_type": "code",
   "execution_count": 26,
   "metadata": {
    "scrolled": true
   },
   "outputs": [
    {
     "data": {
      "text/html": [
       "<div>\n",
       "<style scoped>\n",
       "    .dataframe tbody tr th:only-of-type {\n",
       "        vertical-align: middle;\n",
       "    }\n",
       "\n",
       "    .dataframe tbody tr th {\n",
       "        vertical-align: top;\n",
       "    }\n",
       "\n",
       "    .dataframe thead th {\n",
       "        text-align: right;\n",
       "    }\n",
       "</style>\n",
       "<table border=\"1\" class=\"dataframe\">\n",
       "  <thead>\n",
       "    <tr style=\"text-align: right;\">\n",
       "      <th></th>\n",
       "      <th>mean radius</th>\n",
       "      <th>mean texture</th>\n",
       "      <th>mean perimeter</th>\n",
       "      <th>mean area</th>\n",
       "      <th>mean smoothness</th>\n",
       "      <th>mean compactness</th>\n",
       "      <th>mean concavity</th>\n",
       "      <th>mean concave points</th>\n",
       "      <th>mean symmetry</th>\n",
       "      <th>mean fractal dimension</th>\n",
       "    </tr>\n",
       "  </thead>\n",
       "  <tbody>\n",
       "    <tr>\n",
       "      <td>0</td>\n",
       "      <td>17.99</td>\n",
       "      <td>10.38</td>\n",
       "      <td>122.80</td>\n",
       "      <td>1001.0</td>\n",
       "      <td>0.11840</td>\n",
       "      <td>0.27760</td>\n",
       "      <td>0.30010</td>\n",
       "      <td>0.14710</td>\n",
       "      <td>0.2419</td>\n",
       "      <td>0.07871</td>\n",
       "    </tr>\n",
       "    <tr>\n",
       "      <td>1</td>\n",
       "      <td>20.57</td>\n",
       "      <td>17.77</td>\n",
       "      <td>132.90</td>\n",
       "      <td>1326.0</td>\n",
       "      <td>0.08474</td>\n",
       "      <td>0.07864</td>\n",
       "      <td>0.08690</td>\n",
       "      <td>0.07017</td>\n",
       "      <td>0.1812</td>\n",
       "      <td>0.05667</td>\n",
       "    </tr>\n",
       "    <tr>\n",
       "      <td>2</td>\n",
       "      <td>19.69</td>\n",
       "      <td>21.25</td>\n",
       "      <td>130.00</td>\n",
       "      <td>1203.0</td>\n",
       "      <td>0.10960</td>\n",
       "      <td>0.15990</td>\n",
       "      <td>0.19740</td>\n",
       "      <td>0.12790</td>\n",
       "      <td>0.2069</td>\n",
       "      <td>0.05999</td>\n",
       "    </tr>\n",
       "    <tr>\n",
       "      <td>3</td>\n",
       "      <td>11.42</td>\n",
       "      <td>20.38</td>\n",
       "      <td>77.58</td>\n",
       "      <td>386.1</td>\n",
       "      <td>0.14250</td>\n",
       "      <td>0.28390</td>\n",
       "      <td>0.24140</td>\n",
       "      <td>0.10520</td>\n",
       "      <td>0.2597</td>\n",
       "      <td>0.09744</td>\n",
       "    </tr>\n",
       "    <tr>\n",
       "      <td>4</td>\n",
       "      <td>20.29</td>\n",
       "      <td>14.34</td>\n",
       "      <td>135.10</td>\n",
       "      <td>1297.0</td>\n",
       "      <td>0.10030</td>\n",
       "      <td>0.13280</td>\n",
       "      <td>0.19800</td>\n",
       "      <td>0.10430</td>\n",
       "      <td>0.1809</td>\n",
       "      <td>0.05883</td>\n",
       "    </tr>\n",
       "    <tr>\n",
       "      <td>...</td>\n",
       "      <td>...</td>\n",
       "      <td>...</td>\n",
       "      <td>...</td>\n",
       "      <td>...</td>\n",
       "      <td>...</td>\n",
       "      <td>...</td>\n",
       "      <td>...</td>\n",
       "      <td>...</td>\n",
       "      <td>...</td>\n",
       "      <td>...</td>\n",
       "    </tr>\n",
       "    <tr>\n",
       "      <td>564</td>\n",
       "      <td>21.56</td>\n",
       "      <td>22.39</td>\n",
       "      <td>142.00</td>\n",
       "      <td>1479.0</td>\n",
       "      <td>0.11100</td>\n",
       "      <td>0.11590</td>\n",
       "      <td>0.24390</td>\n",
       "      <td>0.13890</td>\n",
       "      <td>0.1726</td>\n",
       "      <td>0.05623</td>\n",
       "    </tr>\n",
       "    <tr>\n",
       "      <td>565</td>\n",
       "      <td>20.13</td>\n",
       "      <td>28.25</td>\n",
       "      <td>131.20</td>\n",
       "      <td>1261.0</td>\n",
       "      <td>0.09780</td>\n",
       "      <td>0.10340</td>\n",
       "      <td>0.14400</td>\n",
       "      <td>0.09791</td>\n",
       "      <td>0.1752</td>\n",
       "      <td>0.05533</td>\n",
       "    </tr>\n",
       "    <tr>\n",
       "      <td>566</td>\n",
       "      <td>16.60</td>\n",
       "      <td>28.08</td>\n",
       "      <td>108.30</td>\n",
       "      <td>858.1</td>\n",
       "      <td>0.08455</td>\n",
       "      <td>0.10230</td>\n",
       "      <td>0.09251</td>\n",
       "      <td>0.05302</td>\n",
       "      <td>0.1590</td>\n",
       "      <td>0.05648</td>\n",
       "    </tr>\n",
       "    <tr>\n",
       "      <td>567</td>\n",
       "      <td>20.60</td>\n",
       "      <td>29.33</td>\n",
       "      <td>140.10</td>\n",
       "      <td>1265.0</td>\n",
       "      <td>0.11780</td>\n",
       "      <td>0.27700</td>\n",
       "      <td>0.35140</td>\n",
       "      <td>0.15200</td>\n",
       "      <td>0.2397</td>\n",
       "      <td>0.07016</td>\n",
       "    </tr>\n",
       "    <tr>\n",
       "      <td>568</td>\n",
       "      <td>7.76</td>\n",
       "      <td>24.54</td>\n",
       "      <td>47.92</td>\n",
       "      <td>181.0</td>\n",
       "      <td>0.05263</td>\n",
       "      <td>0.04362</td>\n",
       "      <td>0.00000</td>\n",
       "      <td>0.00000</td>\n",
       "      <td>0.1587</td>\n",
       "      <td>0.05884</td>\n",
       "    </tr>\n",
       "  </tbody>\n",
       "</table>\n",
       "<p>569 rows × 10 columns</p>\n",
       "</div>"
      ],
      "text/plain": [
       "     mean radius  mean texture  mean perimeter  mean area  mean smoothness  \\\n",
       "0          17.99         10.38          122.80     1001.0          0.11840   \n",
       "1          20.57         17.77          132.90     1326.0          0.08474   \n",
       "2          19.69         21.25          130.00     1203.0          0.10960   \n",
       "3          11.42         20.38           77.58      386.1          0.14250   \n",
       "4          20.29         14.34          135.10     1297.0          0.10030   \n",
       "..           ...           ...             ...        ...              ...   \n",
       "564        21.56         22.39          142.00     1479.0          0.11100   \n",
       "565        20.13         28.25          131.20     1261.0          0.09780   \n",
       "566        16.60         28.08          108.30      858.1          0.08455   \n",
       "567        20.60         29.33          140.10     1265.0          0.11780   \n",
       "568         7.76         24.54           47.92      181.0          0.05263   \n",
       "\n",
       "     mean compactness  mean concavity  mean concave points  mean symmetry  \\\n",
       "0             0.27760         0.30010              0.14710         0.2419   \n",
       "1             0.07864         0.08690              0.07017         0.1812   \n",
       "2             0.15990         0.19740              0.12790         0.2069   \n",
       "3             0.28390         0.24140              0.10520         0.2597   \n",
       "4             0.13280         0.19800              0.10430         0.1809   \n",
       "..                ...             ...                  ...            ...   \n",
       "564           0.11590         0.24390              0.13890         0.1726   \n",
       "565           0.10340         0.14400              0.09791         0.1752   \n",
       "566           0.10230         0.09251              0.05302         0.1590   \n",
       "567           0.27700         0.35140              0.15200         0.2397   \n",
       "568           0.04362         0.00000              0.00000         0.1587   \n",
       "\n",
       "     mean fractal dimension  \n",
       "0                   0.07871  \n",
       "1                   0.05667  \n",
       "2                   0.05999  \n",
       "3                   0.09744  \n",
       "4                   0.05883  \n",
       "..                      ...  \n",
       "564                 0.05623  \n",
       "565                 0.05533  \n",
       "566                 0.05648  \n",
       "567                 0.07016  \n",
       "568                 0.05884  \n",
       "\n",
       "[569 rows x 10 columns]"
      ]
     },
     "execution_count": 26,
     "metadata": {},
     "output_type": "execute_result"
    }
   ],
   "source": [
    "#sneak peeak at the first few rows of the features to make sure all the values are numeric\n",
    "features.head()\n",
    "features = features.iloc[:,:10]\n",
    "features"
   ]
  },
  {
   "cell_type": "code",
   "execution_count": 27,
   "metadata": {
    "scrolled": true
   },
   "outputs": [
    {
     "data": {
      "text/html": [
       "<div>\n",
       "<style scoped>\n",
       "    .dataframe tbody tr th:only-of-type {\n",
       "        vertical-align: middle;\n",
       "    }\n",
       "\n",
       "    .dataframe tbody tr th {\n",
       "        vertical-align: top;\n",
       "    }\n",
       "\n",
       "    .dataframe thead th {\n",
       "        text-align: right;\n",
       "    }\n",
       "</style>\n",
       "<table border=\"1\" class=\"dataframe\">\n",
       "  <thead>\n",
       "    <tr style=\"text-align: right;\">\n",
       "      <th></th>\n",
       "      <th>0</th>\n",
       "    </tr>\n",
       "  </thead>\n",
       "  <tbody>\n",
       "    <tr>\n",
       "      <td>0</td>\n",
       "      <td>0</td>\n",
       "    </tr>\n",
       "    <tr>\n",
       "      <td>1</td>\n",
       "      <td>0</td>\n",
       "    </tr>\n",
       "    <tr>\n",
       "      <td>2</td>\n",
       "      <td>0</td>\n",
       "    </tr>\n",
       "    <tr>\n",
       "      <td>3</td>\n",
       "      <td>0</td>\n",
       "    </tr>\n",
       "    <tr>\n",
       "      <td>4</td>\n",
       "      <td>0</td>\n",
       "    </tr>\n",
       "  </tbody>\n",
       "</table>\n",
       "</div>"
      ],
      "text/plain": [
       "   0\n",
       "0  0\n",
       "1  0\n",
       "2  0\n",
       "3  0\n",
       "4  0"
      ]
     },
     "execution_count": 27,
     "metadata": {},
     "output_type": "execute_result"
    }
   ],
   "source": [
    "#sneak peeak at the first few rows of the target to make sure all the values are numeric\n",
    "target.head()"
   ]
  },
  {
   "cell_type": "code",
   "execution_count": 28,
   "metadata": {},
   "outputs": [],
   "source": [
    "#Put the following 3 features in x: 'mean radius','mean texture','mean symmetry'\n",
    "x = features[[\"mean radius\", \"mean texture\", \"mean symmetry\"]]\n",
    "#store target in y\n",
    "y = target[0]"
   ]
  },
  {
   "cell_type": "code",
   "execution_count": 29,
   "metadata": {},
   "outputs": [],
   "source": [
    "#Split the dataset into training and testing using 30% of data for testing\n",
    "import sklearn.model_selection as ms\n",
    "xTrain, xTest, yTrain, yTest = ms.train_test_split(x, y, test_size=0.3)"
   ]
  },
  {
   "cell_type": "code",
   "execution_count": 30,
   "metadata": {},
   "outputs": [
    {
     "data": {
      "text/plain": [
       "KNeighborsClassifier(algorithm='auto', leaf_size=30, metric='minkowski',\n",
       "                     metric_params=None, n_jobs=None, n_neighbors=1, p=2,\n",
       "                     weights='uniform')"
      ]
     },
     "execution_count": 30,
     "metadata": {},
     "output_type": "execute_result"
    }
   ],
   "source": [
    "#Use a KNN Classifier with 1 neighbor\n",
    "import sklearn.neighbors as neighbors\n",
    "\n",
    "knn = neighbors.KNeighborsClassifier(n_neighbors=1)\n",
    "knn.fit(xTrain,yTrain)"
   ]
  },
  {
   "cell_type": "code",
   "execution_count": 31,
   "metadata": {},
   "outputs": [
    {
     "data": {
      "text/plain": [
       "array([0, 1])"
      ]
     },
     "execution_count": 31,
     "metadata": {},
     "output_type": "execute_result"
    }
   ],
   "source": [
    "#inspect the classes to make sure you only have 0 and 1\n",
    "knn.classes_"
   ]
  },
  {
   "cell_type": "code",
   "execution_count": 32,
   "metadata": {},
   "outputs": [],
   "source": [
    "#use the model to predict new datapoints\n",
    "yPredicted = knn.predict(xTest)"
   ]
  },
  {
   "cell_type": "code",
   "execution_count": 33,
   "metadata": {
    "scrolled": true
   },
   "outputs": [
    {
     "data": {
      "text/plain": [
       "0.8713450292397661"
      ]
     },
     "execution_count": 33,
     "metadata": {},
     "output_type": "execute_result"
    }
   ],
   "source": [
    "#Use the metric package to get the accuracy score of this classification model\n",
    "import sklearn.metrics as metrics\n",
    "metrics.accuracy_score(yTest,yPredicted)"
   ]
  },
  {
   "cell_type": "code",
   "execution_count": 34,
   "metadata": {
    "scrolled": true
   },
   "outputs": [
    {
     "data": {
      "text/plain": [
       "array([[52, 12],\n",
       "       [10, 97]], dtype=int64)"
      ]
     },
     "execution_count": 34,
     "metadata": {},
     "output_type": "execute_result"
    }
   ],
   "source": [
    "#inspect the confusion matrix\n",
    "metrics.confusion_matrix(yTest,yPredicted)"
   ]
  },
  {
   "cell_type": "code",
   "execution_count": 35,
   "metadata": {},
   "outputs": [
    {
     "data": {
      "text/plain": [
       "0.8304093567251462"
      ]
     },
     "execution_count": 35,
     "metadata": {},
     "output_type": "execute_result"
    }
   ],
   "source": [
    "#How do you interpret this confusion matrix?\n",
    "\n",
    "#44 times the predictive model guessed correctly that malignant tumors were malignant.  98 times the predictive model \n",
    "# guessed correctly that benign tumors were benign.  The accuracy is 83%.\n",
    "(44+98)/(44+11+18+98)"
   ]
  },
  {
   "cell_type": "code",
   "execution_count": 36,
   "metadata": {},
   "outputs": [],
   "source": [
    "### CHECKPOINT 4 ###\n",
    "#Before you proceed, make sure you have built a classification model and obtained its accuracy score and the confusion matrix\n",
    "#If not, this means Part II of this lab has not been completed. \n",
    "#If you are stuck - ask for help before you proceed! "
   ]
  },
  {
   "cell_type": "code",
   "execution_count": 37,
   "metadata": {},
   "outputs": [
    {
     "name": "stdout",
     "output_type": "stream",
     "text": [
      "1 0.8713450292397661\n",
      "2 0.8596491228070176\n",
      "3 0.8888888888888888\n",
      "4 0.8771929824561403\n",
      "5 0.8771929824561403\n",
      "6 0.8947368421052632\n",
      "7 0.8888888888888888\n",
      "8 0.8947368421052632\n",
      "9 0.8830409356725146\n"
     ]
    }
   ],
   "source": [
    "#Go further! \n",
    "#Experiment with different subset of features or/and k-values to see if you can get an accuracy score greater than 0.9 \n",
    "\n",
    "# Let's first use the existing features, but test different k-values\n",
    "scores=[]\n",
    "for k in range(1,10):\n",
    "    knn = neighbors.KNeighborsClassifier(n_neighbors=k)\n",
    "    knn.fit(xTrain, yTrain)\n",
    "    yPredicted=knn.predict(xTest)\n",
    "    scores.append(metrics.accuracy_score(yTest,yPredicted))\n",
    "    print(k,metrics.accuracy_score(yTest,yPredicted))"
   ]
  },
  {
   "cell_type": "code",
   "execution_count": 38,
   "metadata": {},
   "outputs": [
    {
     "name": "stdout",
     "output_type": "stream",
     "text": [
      "mean radius\n",
      "1 0.8128654970760234\n",
      "2 0.7719298245614035\n",
      "3 0.8362573099415205\n",
      "4 0.8187134502923976\n",
      "5 0.8538011695906432\n",
      "6 0.8362573099415205\n",
      "7 0.8654970760233918\n",
      "8 0.8596491228070176\n",
      "9 0.8830409356725146\n",
      "mean texture\n",
      "1 0.6257309941520468\n",
      "2 0.5497076023391813\n",
      "3 0.5789473684210527\n",
      "4 0.5730994152046783\n",
      "5 0.6432748538011696\n",
      "6 0.6608187134502924\n",
      "7 0.7017543859649122\n",
      "8 0.6900584795321637\n",
      "9 0.7076023391812866\n",
      "mean perimeter\n",
      "1 0.7777777777777778\n",
      "2 0.7251461988304093\n",
      "3 0.8596491228070176\n",
      "4 0.8187134502923976\n",
      "5 0.8713450292397661\n",
      "6 0.847953216374269\n",
      "7 0.847953216374269\n",
      "8 0.8362573099415205\n",
      "9 0.8362573099415205\n",
      "mean area\n",
      "1 0.8304093567251462\n",
      "2 0.8128654970760234\n",
      "3 0.8771929824561403\n",
      "4 0.8713450292397661\n",
      "5 0.8888888888888888\n",
      "6 0.8771929824561403\n",
      "7 0.8888888888888888\n",
      "8 0.8713450292397661\n",
      "9 0.9005847953216374\n",
      "mean smoothness\n",
      "1 0.631578947368421\n",
      "2 0.6257309941520468\n",
      "3 0.6900584795321637\n",
      "4 0.6374269005847953\n",
      "5 0.6608187134502924\n",
      "6 0.6081871345029239\n",
      "7 0.6374269005847953\n",
      "8 0.6257309941520468\n",
      "9 0.6374269005847953\n",
      "mean compactness\n",
      "1 0.7485380116959064\n",
      "2 0.7134502923976608\n",
      "3 0.7543859649122807\n",
      "4 0.7368421052631579\n",
      "5 0.7602339181286549\n",
      "6 0.7660818713450293\n",
      "7 0.7719298245614035\n",
      "8 0.7543859649122807\n",
      "9 0.7660818713450293\n",
      "mean concavity\n",
      "1 0.8245614035087719\n",
      "2 0.8245614035087719\n",
      "3 0.8713450292397661\n",
      "4 0.847953216374269\n",
      "5 0.8538011695906432\n",
      "6 0.847953216374269\n",
      "7 0.8596491228070176\n",
      "8 0.8596491228070176\n",
      "9 0.8596491228070176\n",
      "mean concave points\n",
      "1 0.847953216374269\n",
      "2 0.8421052631578947\n",
      "3 0.8888888888888888\n",
      "4 0.9122807017543859\n",
      "5 0.9181286549707602\n",
      "6 0.9064327485380117\n",
      "7 0.9064327485380117\n",
      "8 0.9064327485380117\n",
      "9 0.9064327485380117\n",
      "mean symmetry\n",
      "1 0.6842105263157895\n",
      "2 0.5906432748538012\n",
      "3 0.6198830409356725\n",
      "4 0.6140350877192983\n",
      "5 0.6432748538011696\n",
      "6 0.6140350877192983\n",
      "7 0.6608187134502924\n",
      "8 0.6432748538011696\n",
      "9 0.631578947368421\n",
      "mean fractal dimension\n",
      "1 0.5555555555555556\n",
      "2 0.49122807017543857\n",
      "3 0.5847953216374269\n",
      "4 0.5263157894736842\n",
      "5 0.5906432748538012\n",
      "6 0.5497076023391813\n",
      "7 0.6023391812865497\n",
      "8 0.543859649122807\n",
      "9 0.6081871345029239\n"
     ]
    }
   ],
   "source": [
    "#store target in y\n",
    "y = target[0]\n",
    "#Now let's test all the features individually and all the KNN values together...\n",
    "for element in features:\n",
    "    print(element)\n",
    "    x = features[[element]]\n",
    "    scores=[]\n",
    "    xTrain, xTest, yTrain, yTest = ms.train_test_split(x, y, test_size=0.3)\n",
    "    for k in range(1,10):\n",
    "        knn = neighbors.KNeighborsClassifier(n_neighbors=k)\n",
    "        knn.fit(xTrain, yTrain)\n",
    "        yPredicted=knn.predict(xTest)\n",
    "        scores.append(metrics.accuracy_score(yTest,yPredicted))\n",
    "        print(k,metrics.accuracy_score(yTest,yPredicted))\n"
   ]
  },
  {
   "cell_type": "code",
   "execution_count": 39,
   "metadata": {},
   "outputs": [
    {
     "name": "stdout",
     "output_type": "stream",
     "text": [
      "mean texture mean radius\n",
      "NEW BEST SCORE\n",
      "0.8771929824561403\n",
      "1 0.8771929824561403\n",
      "NEW BEST SCORE\n",
      "0.8888888888888888\n",
      "5 0.8888888888888888\n",
      "NEW BEST SCORE\n",
      "0.9064327485380117\n",
      "6 0.9064327485380117\n",
      "NEW BEST SCORE\n",
      "0.9122807017543859\n",
      "9 0.9122807017543859\n",
      "mean perimeter mean radius\n",
      "mean area mean radius\n",
      "mean smoothness mean radius\n",
      "mean compactness mean radius\n",
      "mean concavity mean radius\n",
      "mean concave points mean radius\n",
      "mean symmetry mean radius\n",
      "mean fractal dimension mean radius\n",
      "mean radius mean texture\n",
      "mean perimeter mean texture\n",
      "NEW BEST SCORE\n",
      "0.935672514619883\n",
      "3 0.935672514619883\n",
      "NEW BEST SCORE\n",
      "0.9415204678362573\n",
      "4 0.9415204678362573\n",
      "NEW BEST SCORE\n",
      "0.9473684210526315\n",
      "5 0.9473684210526315\n",
      "mean area mean texture\n",
      "mean smoothness mean texture\n",
      "mean compactness mean texture\n",
      "mean concavity mean texture\n",
      "mean concave points mean texture\n",
      "mean symmetry mean texture\n",
      "mean fractal dimension mean texture\n",
      "mean radius mean perimeter\n",
      "mean texture mean perimeter\n",
      "mean area mean perimeter\n",
      "mean smoothness mean perimeter\n",
      "mean compactness mean perimeter\n",
      "mean concavity mean perimeter\n",
      "mean concave points mean perimeter\n",
      "mean symmetry mean perimeter\n",
      "mean fractal dimension mean perimeter\n",
      "mean radius mean area\n",
      "mean texture mean area\n",
      "mean perimeter mean area\n",
      "mean smoothness mean area\n",
      "mean compactness mean area\n",
      "mean concavity mean area\n",
      "mean concave points mean area\n",
      "mean symmetry mean area\n",
      "mean fractal dimension mean area\n",
      "mean radius mean smoothness\n",
      "mean texture mean smoothness\n",
      "mean perimeter mean smoothness\n",
      "mean area mean smoothness\n",
      "mean compactness mean smoothness\n",
      "mean concavity mean smoothness\n",
      "mean concave points mean smoothness\n",
      "mean symmetry mean smoothness\n",
      "mean fractal dimension mean smoothness\n",
      "mean radius mean compactness\n",
      "mean texture mean compactness\n",
      "mean perimeter mean compactness\n",
      "mean area mean compactness\n",
      "mean smoothness mean compactness\n",
      "mean concavity mean compactness\n",
      "mean concave points mean compactness\n",
      "mean symmetry mean compactness\n",
      "mean fractal dimension mean compactness\n",
      "mean radius mean concavity\n",
      "mean texture mean concavity\n",
      "mean perimeter mean concavity\n",
      "mean area mean concavity\n",
      "mean smoothness mean concavity\n",
      "mean compactness mean concavity\n",
      "mean concave points mean concavity\n",
      "mean symmetry mean concavity\n",
      "mean fractal dimension mean concavity\n",
      "mean radius mean concave points\n",
      "mean texture mean concave points\n",
      "mean perimeter mean concave points\n",
      "mean area mean concave points\n",
      "mean smoothness mean concave points\n",
      "mean compactness mean concave points\n",
      "mean concavity mean concave points\n",
      "mean symmetry mean concave points\n",
      "mean fractal dimension mean concave points\n",
      "mean radius mean symmetry\n",
      "mean texture mean symmetry\n",
      "mean perimeter mean symmetry\n",
      "mean area mean symmetry\n",
      "mean smoothness mean symmetry\n",
      "mean compactness mean symmetry\n",
      "mean concavity mean symmetry\n",
      "mean concave points mean symmetry\n",
      "mean fractal dimension mean symmetry\n",
      "mean radius mean fractal dimension\n",
      "mean texture mean fractal dimension\n",
      "mean perimeter mean fractal dimension\n",
      "mean area mean fractal dimension\n",
      "mean smoothness mean fractal dimension\n",
      "mean compactness mean fractal dimension\n",
      "mean concavity mean fractal dimension\n",
      "mean concave points mean fractal dimension\n",
      "mean symmetry mean fractal dimension\n"
     ]
    }
   ],
   "source": [
    "#store target in y\n",
    "oldscore = 0\n",
    "newscore = 0\n",
    "y = target[0]\n",
    "for element1 in features:\n",
    "    for element2 in features:\n",
    "        if element2 == element1:\n",
    "            pass\n",
    "        else:\n",
    "            print(element2, element1)\n",
    "            x = features[[element2, element1]]\n",
    "            scores=[]\n",
    "            xTrain, xTest, yTrain, yTest = ms.train_test_split(x, y, test_size=0.3)\n",
    "            for k in range(1,10):\n",
    "                knn = neighbors.KNeighborsClassifier(n_neighbors=k)\n",
    "                knn.fit(xTrain, yTrain)\n",
    "                yPredicted=knn.predict(xTest)\n",
    "                newscore = metrics.accuracy_score(yTest,yPredicted)\n",
    "                if newscore > oldscore:\n",
    "                    print(\"NEW BEST SCORE\")\n",
    "                    print(newscore)\n",
    "                    oldscore = metrics.accuracy_score(yTest,yPredicted)\n",
    "                    scores.append(metrics.accuracy_score(yTest,yPredicted))\n",
    "                    print(k,metrics.accuracy_score(yTest,yPredicted))"
   ]
  },
  {
   "cell_type": "code",
   "execution_count": 40,
   "metadata": {},
   "outputs": [
    {
     "data": {
      "text/plain": [
       "0.9473684210526315"
      ]
     },
     "execution_count": 40,
     "metadata": {},
     "output_type": "execute_result"
    }
   ],
   "source": [
    "oldscore\n",
    "#the best was 0.9590 which was mean_perimeter and mean_texture and 3 nearest_neighbors"
   ]
  },
  {
   "cell_type": "code",
   "execution_count": 41,
   "metadata": {
    "scrolled": true
   },
   "outputs": [
    {
     "name": "stdout",
     "output_type": "stream",
     "text": [
      "mean perimeter mean texture mean radius\n",
      "NEW BEST SCORE\n",
      "0.8538011695906432\n",
      "1 0.8538011695906432\n",
      "mean perimeter mean texture mean radius\n",
      "NEW BEST SCORE\n",
      "0.8654970760233918\n",
      "2 0.8654970760233918\n",
      "mean perimeter mean texture mean radius\n",
      "NEW BEST SCORE\n",
      "0.8713450292397661\n",
      "5 0.8713450292397661\n",
      "mean area mean texture mean radius\n",
      "NEW BEST SCORE\n",
      "0.8771929824561403\n",
      "5 0.8771929824561403\n",
      "mean area mean texture mean radius\n",
      "NEW BEST SCORE\n",
      "0.8947368421052632\n",
      "7 0.8947368421052632\n",
      "mean concave points mean texture mean radius\n",
      "NEW BEST SCORE\n",
      "0.9064327485380117\n",
      "1 0.9064327485380117\n",
      "mean texture mean perimeter mean radius\n",
      "NEW BEST SCORE\n",
      "0.9532163742690059\n",
      "3 0.9532163742690059\n",
      "mean perimeter mean texture mean concavity\n",
      "NEW BEST SCORE\n",
      "0.9590643274853801\n",
      "3 0.9590643274853801\n",
      "mean concave points mean compactness mean concavity\n",
      "NEW BEST SCORE\n",
      "0.9649122807017544\n",
      "7 0.9649122807017544\n"
     ]
    }
   ],
   "source": [
    "oldscore = 0\n",
    "newscore = 0\n",
    "y = target[0]\n",
    "for element1 in features:\n",
    "    for element2 in features:\n",
    "        for element3 in features:\n",
    "            if element2 == element1 or element3 == element1 or element2 == element3:\n",
    "                pass\n",
    "            else:\n",
    "                x = features[[element3, element2, element1]]\n",
    "                scores=[]\n",
    "                xTrain, xTest, yTrain, yTest = ms.train_test_split(x, y, test_size=0.3)\n",
    "                for k in range(1,10):\n",
    "                    knn = neighbors.KNeighborsClassifier(n_neighbors=k)\n",
    "                    knn.fit(xTrain, yTrain)\n",
    "                    yPredicted=knn.predict(xTest)\n",
    "                    newscore = metrics.accuracy_score(yTest,yPredicted)\n",
    "                    if newscore > oldscore:\n",
    "                        print(element3, element2, element1)\n",
    "                        print(\"NEW BEST SCORE\")\n",
    "                        print(newscore)\n",
    "                        oldscore = metrics.accuracy_score(yTest,yPredicted)\n",
    "                        scores.append(metrics.accuracy_score(yTest,yPredicted))\n",
    "                        print(k,metrics.accuracy_score(yTest,yPredicted))"
   ]
  },
  {
   "cell_type": "code",
   "execution_count": 42,
   "metadata": {
    "scrolled": true
   },
   "outputs": [
    {
     "data": {
      "text/plain": [
       "0.9649122807017544"
      ]
     },
     "execution_count": 42,
     "metadata": {},
     "output_type": "execute_result"
    }
   ],
   "source": [
    "oldscore\n",
    "#the best was 0.9649 which was mean_concave_points, mean_compactness, and mean_concavity, with 7 k-nearest neigbours"
   ]
  }
 ],
 "metadata": {
  "kernelspec": {
   "display_name": "Python 3",
   "language": "python",
   "name": "python3"
  },
  "language_info": {
   "codemirror_mode": {
    "name": "ipython",
    "version": 3
   },
   "file_extension": ".py",
   "mimetype": "text/x-python",
   "name": "python",
   "nbconvert_exporter": "python",
   "pygments_lexer": "ipython3",
   "version": "3.7.4"
  }
 },
 "nbformat": 4,
 "nbformat_minor": 2
}
